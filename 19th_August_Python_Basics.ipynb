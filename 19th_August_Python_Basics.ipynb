{
 "cells": [
  {
   "cell_type": "code",
   "execution_count": 60,
   "id": "ae92f47e-00d8-4264-bb0c-f592245fac10",
   "metadata": {},
   "outputs": [
    {
     "data": {
      "text/plain": [
       "'Declare two variables, `x` and `y`, and assign them integer values. Swap the\\nvalues of these variables without using any temporary variable'"
      ]
     },
     "execution_count": 60,
     "metadata": {},
     "output_type": "execute_result"
    }
   ],
   "source": [
    "#Python Basics Assignment 1 \n",
    "\n",
    "'''Declare two variables, `x` and `y`, and assign them integer values. Swap the\n",
    "values of these variables without using any temporary variable'''"
   ]
  },
  {
   "cell_type": "code",
   "execution_count": 71,
   "id": "e82842a0-5faf-47ef-94b7-2181472ebf0f",
   "metadata": {},
   "outputs": [],
   "source": [
    "x = 10\n",
    "y = 5"
   ]
  },
  {
   "cell_type": "code",
   "execution_count": 72,
   "id": "f8888019-330f-44fc-96c2-18b6fdcf4658",
   "metadata": {},
   "outputs": [],
   "source": [
    "x = x^y"
   ]
  },
  {
   "cell_type": "code",
   "execution_count": 73,
   "id": "975f6810-3894-420e-9c3c-7504432a87ab",
   "metadata": {},
   "outputs": [],
   "source": [
    "y = x^y"
   ]
  },
  {
   "cell_type": "code",
   "execution_count": 74,
   "id": "225ac0d4-173a-4a12-8b6c-ed9430982c44",
   "metadata": {},
   "outputs": [],
   "source": [
    "x = x^y"
   ]
  },
  {
   "cell_type": "code",
   "execution_count": 76,
   "id": "eee774b3-87ad-4b64-afbd-de70b4fbd237",
   "metadata": {},
   "outputs": [
    {
     "name": "stdout",
     "output_type": "stream",
     "text": [
      " The value of the first variable after swapping is : 5\n",
      " The value of the Second variable after swapping is : 10\n"
     ]
    }
   ],
   "source": [
    "print ( \" The value of the first variable after swapping is :\", x)\n",
    "print ( \" The value of the Second variable after swapping is :\", y)\n"
   ]
  },
  {
   "cell_type": "code",
   "execution_count": 77,
   "id": "bf7b48cd-39e7-41dd-a375-78e1f1a046b8",
   "metadata": {},
   "outputs": [
    {
     "data": {
      "text/plain": [
       "'Create a program that calculates the area of a rectangle. Take the length and\\nwidth as inputs from the user and store them in variables. Calculate and\\ndisplay the area'"
      ]
     },
     "execution_count": 77,
     "metadata": {},
     "output_type": "execute_result"
    }
   ],
   "source": [
    "'''Create a program that calculates the area of a rectangle. Take the length and\n",
    "width as inputs from the user and store them in variables. Calculate and\n",
    "display the area'''"
   ]
  },
  {
   "cell_type": "code",
   "execution_count": 2,
   "id": "b4a16682-6704-41a6-ba5f-130f64a975e2",
   "metadata": {},
   "outputs": [
    {
     "name": "stdin",
     "output_type": "stream",
     "text": [
      "Enter the length:  5\n"
     ]
    }
   ],
   "source": [
    "l = int(input(\"Enter the length: \"))"
   ]
  },
  {
   "cell_type": "code",
   "execution_count": 3,
   "id": "53782154-2a8a-4c12-8763-366ebcdcc47e",
   "metadata": {},
   "outputs": [
    {
     "name": "stdin",
     "output_type": "stream",
     "text": [
      "Enter the width:  6\n"
     ]
    }
   ],
   "source": [
    "w = int(input(\"Enter the width: \"))\n"
   ]
  },
  {
   "cell_type": "code",
   "execution_count": 5,
   "id": "dc258954-618c-4d6c-b7ab-670b26fe51f9",
   "metadata": {},
   "outputs": [],
   "source": [
    "A = l*w"
   ]
  },
  {
   "cell_type": "code",
   "execution_count": 6,
   "id": "5ac3adb8-6383-4f34-abc5-a73911e9ceaf",
   "metadata": {},
   "outputs": [
    {
     "name": "stdout",
     "output_type": "stream",
     "text": [
      "Area of Rectangle: 30\n"
     ]
    }
   ],
   "source": [
    "print(\"Area of Rectangle:\", A)"
   ]
  },
  {
   "cell_type": "code",
   "execution_count": 1,
   "id": "20021884-d1de-4ede-bb18-68ec22d84105",
   "metadata": {},
   "outputs": [
    {
     "data": {
      "text/plain": [
       "'Write a Python program that converts temperatures from Celsius to\\nFahrenheit. Take the temperature in Celsius as input, store it in a variable,\\nconvert it to Fahrenheit, and display the result'"
      ]
     },
     "execution_count": 1,
     "metadata": {},
     "output_type": "execute_result"
    }
   ],
   "source": [
    "'''Write a Python program that converts temperatures from Celsius to\n",
    "Fahrenheit. Take the temperature in Celsius as input, store it in a variable,\n",
    "convert it to Fahrenheit, and display the result'''"
   ]
  },
  {
   "cell_type": "code",
   "execution_count": 10,
   "id": "98dd4a0e-bd0d-47bb-9255-f971c6503e9a",
   "metadata": {},
   "outputs": [
    {
     "name": "stdin",
     "output_type": "stream",
     "text": [
      "Enter the temperature:  102\n"
     ]
    }
   ],
   "source": [
    "C = int(input(\"Enter the temperature: \"))"
   ]
  },
  {
   "cell_type": "code",
   "execution_count": 11,
   "id": "019f900d-b9ea-4d5d-b911-22e5dc1719d2",
   "metadata": {},
   "outputs": [],
   "source": [
    "F = ( 1.8* C )+ 32"
   ]
  },
  {
   "cell_type": "code",
   "execution_count": 12,
   "id": "90013200-9f4f-4650-ad09-b6a2e70a821e",
   "metadata": {},
   "outputs": [
    {
     "name": "stdout",
     "output_type": "stream",
     "text": [
      "Temperature in Fahrenheit= 215.6\n"
     ]
    }
   ],
   "source": [
    "print(\"Temperature in Fahrenheit=\", F)"
   ]
  },
  {
   "cell_type": "code",
   "execution_count": 13,
   "id": "499c78bf-9d53-4644-8cd2-270d1b91b631",
   "metadata": {},
   "outputs": [],
   "source": [
    "#String Based Questions"
   ]
  },
  {
   "cell_type": "code",
   "execution_count": null,
   "id": "6878c804-1aba-474d-bb4c-330c6fb67391",
   "metadata": {},
   "outputs": [],
   "source": []
  }
 ],
 "metadata": {
  "kernelspec": {
   "display_name": "Python 3 (ipykernel)",
   "language": "python",
   "name": "python3"
  },
  "language_info": {
   "codemirror_mode": {
    "name": "ipython",
    "version": 3
   },
   "file_extension": ".py",
   "mimetype": "text/x-python",
   "name": "python",
   "nbconvert_exporter": "python",
   "pygments_lexer": "ipython3",
   "version": "3.10.8"
  }
 },
 "nbformat": 4,
 "nbformat_minor": 5
}
